{
 "cells": [
  {
   "cell_type": "code",
   "execution_count": 1,
   "metadata": {},
   "outputs": [
    {
     "name": "stderr",
     "output_type": "stream",
     "text": [
      "Using TensorFlow backend.\n"
     ]
    }
   ],
   "source": [
    "import numpy as np\n",
    "import pandas as pd\n",
    "import sys\n",
    "import os\n",
    "import time\n",
    "import copy\n",
    "import matplotlib.pyplot as plt\n",
    "import cv2\n",
    "\n",
    "from IPython.display import Image, display\n",
    "\n",
    "\n",
    "import tensorflow as tf\n",
    "import sklearn\n",
    "from keras.models import Sequential\n",
    "from keras.layers import Dense, Conv2D, Flatten, MaxPooling2D\n",
    "from keras.preprocessing.image import ImageDataGenerator, load_img, img_to_array, array_to_img"
   ]
  },
  {
   "cell_type": "code",
   "execution_count": 2,
   "metadata": {},
   "outputs": [
    {
     "name": "stdout",
     "output_type": "stream",
     "text": [
      "A2 Tests.ipynb               predicates.txt\r\n",
      "HW2.pdf                      sample_submission.txt\r\n",
      "\u001b[1m\u001b[34m__pycache__\u001b[m\u001b[m/                 test_images.txt\r\n",
      "classes.txt                  testclasses.txt\r\n",
      "eval_awa.py                  train_model_1.py\r\n",
      "\u001b[1m\u001b[34mimages_128x128\u001b[m\u001b[m/              trainclasses.txt\r\n",
      "predicate-matrix-binary.txt\r\n"
     ]
    }
   ],
   "source": [
    "ls"
   ]
  },
  {
   "cell_type": "code",
   "execution_count": 3,
   "metadata": {},
   "outputs": [
    {
     "name": "stdout",
     "output_type": "stream",
     "text": [
      "\u001b[1m\u001b[34mantelope\u001b[m\u001b[m/        \u001b[1m\u001b[34melephant\u001b[m\u001b[m/        \u001b[1m\u001b[34mlion\u001b[m\u001b[m/            \u001b[1m\u001b[34mseal\u001b[m\u001b[m/\r\n",
      "\u001b[1m\u001b[34mbat\u001b[m\u001b[m/             \u001b[1m\u001b[34mfox\u001b[m\u001b[m/             \u001b[1m\u001b[34mmole\u001b[m\u001b[m/            \u001b[1m\u001b[34msheep\u001b[m\u001b[m/\r\n",
      "\u001b[1m\u001b[34mbeaver\u001b[m\u001b[m/          \u001b[1m\u001b[34mgerman+shepherd\u001b[m\u001b[m/ \u001b[1m\u001b[34mmoose\u001b[m\u001b[m/           \u001b[1m\u001b[34msiamese+cat\u001b[m\u001b[m/\r\n",
      "\u001b[1m\u001b[34mblue+whale\u001b[m\u001b[m/      \u001b[1m\u001b[34mgiant+panda\u001b[m\u001b[m/     \u001b[1m\u001b[34mmouse\u001b[m\u001b[m/           \u001b[1m\u001b[34mskunk\u001b[m\u001b[m/\r\n",
      "\u001b[1m\u001b[34mbobcat\u001b[m\u001b[m/          \u001b[1m\u001b[34mgiraffe\u001b[m\u001b[m/         \u001b[1m\u001b[34motter\u001b[m\u001b[m/           \u001b[1m\u001b[34mspider+monkey\u001b[m\u001b[m/\r\n",
      "\u001b[1m\u001b[34mbuffalo\u001b[m\u001b[m/         \u001b[1m\u001b[34mgorilla\u001b[m\u001b[m/         \u001b[1m\u001b[34mox\u001b[m\u001b[m/              \u001b[1m\u001b[34msquirrel\u001b[m\u001b[m/\r\n",
      "\u001b[1m\u001b[34mchihuahua\u001b[m\u001b[m/       \u001b[1m\u001b[34mgrizzly+bear\u001b[m\u001b[m/    \u001b[1m\u001b[34mpersian+cat\u001b[m\u001b[m/     \u001b[1m\u001b[34mtiger\u001b[m\u001b[m/\r\n",
      "\u001b[1m\u001b[34mchimpanzee\u001b[m\u001b[m/      \u001b[1m\u001b[34mhamster\u001b[m\u001b[m/         \u001b[1m\u001b[34mpig\u001b[m\u001b[m/             \u001b[1m\u001b[34mwalrus\u001b[m\u001b[m/\r\n",
      "\u001b[1m\u001b[34mcollie\u001b[m\u001b[m/          \u001b[1m\u001b[34mhippopotamus\u001b[m\u001b[m/    \u001b[1m\u001b[34mpolar+bear\u001b[m\u001b[m/      \u001b[1m\u001b[34mweasel\u001b[m\u001b[m/\r\n",
      "\u001b[1m\u001b[34mcow\u001b[m\u001b[m/             \u001b[1m\u001b[34mhorse\u001b[m\u001b[m/           \u001b[1m\u001b[34mrabbit\u001b[m\u001b[m/          \u001b[1m\u001b[34mwolf\u001b[m\u001b[m/\r\n",
      "\u001b[1m\u001b[34mdalmatian\u001b[m\u001b[m/       \u001b[1m\u001b[34mhumpback+whale\u001b[m\u001b[m/  \u001b[1m\u001b[34mraccoon\u001b[m\u001b[m/         \u001b[1m\u001b[34mzebra\u001b[m\u001b[m/\r\n",
      "\u001b[1m\u001b[34mdeer\u001b[m\u001b[m/            \u001b[1m\u001b[34mkiller+whale\u001b[m\u001b[m/    \u001b[1m\u001b[34mrat\u001b[m\u001b[m/\r\n",
      "\u001b[1m\u001b[34mdolphin\u001b[m\u001b[m/         \u001b[1m\u001b[34mleopard\u001b[m\u001b[m/         \u001b[1m\u001b[34mrhinoceros\u001b[m\u001b[m/\r\n"
     ]
    }
   ],
   "source": [
    "ls images_128x128"
   ]
  },
  {
   "cell_type": "code",
   "execution_count": 4,
   "metadata": {},
   "outputs": [],
   "source": [
    "#for i in range(3):\n",
    "#    display(Image(filename='images_128x128/antelope/antelope_1000{}.jpg'.format(i+1)))"
   ]
  },
  {
   "cell_type": "code",
   "execution_count": 5,
   "metadata": {},
   "outputs": [],
   "source": [
    "classes = pd.read_csv(\"classes.txt\", header=None) \n",
    "predicate_matrix_binary = pd.read_csv(\"predicate-matrix-binary.txt\", header=None) # binary N by M non-symmetric matrix\n",
    "predicates = pd.read_csv(\"predicates.txt\", header=None)\n",
    "sample_submission = pd.read_csv(\"sample_submission.txt\", header=None)\n",
    "test_images = pd.read_csv(\"test_images.txt\", header=None)\n",
    "testclasses = pd.read_csv(\"testclasses.txt\", header=None)\n",
    "trainclasses = pd.read_csv(\"trainclasses.txt\", header=None)"
   ]
  },
  {
   "cell_type": "code",
   "execution_count": 6,
   "metadata": {},
   "outputs": [],
   "source": [
    "id_to_feat = {}\n",
    "for i, string in enumerate(predicates.iloc[:,0]):\n",
    "    id_to_feat[i] = string.split()[1]"
   ]
  },
  {
   "cell_type": "code",
   "execution_count": 7,
   "metadata": {},
   "outputs": [],
   "source": [
    "n_features = None\n",
    "class_to_feat = {}\n",
    "name_to_id = {}\n",
    "all_classes = []\n",
    "for i, c in enumerate(classes[0]):\n",
    "    c_name = c.split()[1]\n",
    "    class_to_feat[c_name] = np.array([int(binary) for binary in predicate_matrix_binary.iloc[i, 0].split()])\n",
    "    name_to_id[c_name] = i\n",
    "    all_classes.append(c_name)\n",
    "    if not n_features: n_features = len(class_to_feat[c_name])\n",
    "\n",
    "train_classes, test_classes = [], []\n",
    "for c in trainclasses[0]: train_classes.append(c.split()[0])\n",
    "for c in testclasses[0]: test_classes.append(c.split()[0])"
   ]
  },
  {
   "cell_type": "code",
   "execution_count": 8,
   "metadata": {},
   "outputs": [
    {
     "name": "stdout",
     "output_type": "stream",
     "text": [
      "\u001b[1m\u001b[34mantelope\u001b[m\u001b[m/        \u001b[1m\u001b[34melephant\u001b[m\u001b[m/        \u001b[1m\u001b[34mlion\u001b[m\u001b[m/            \u001b[1m\u001b[34mseal\u001b[m\u001b[m/\r\n",
      "\u001b[1m\u001b[34mbat\u001b[m\u001b[m/             \u001b[1m\u001b[34mfox\u001b[m\u001b[m/             \u001b[1m\u001b[34mmole\u001b[m\u001b[m/            \u001b[1m\u001b[34msheep\u001b[m\u001b[m/\r\n",
      "\u001b[1m\u001b[34mbeaver\u001b[m\u001b[m/          \u001b[1m\u001b[34mgerman+shepherd\u001b[m\u001b[m/ \u001b[1m\u001b[34mmoose\u001b[m\u001b[m/           \u001b[1m\u001b[34msiamese+cat\u001b[m\u001b[m/\r\n",
      "\u001b[1m\u001b[34mblue+whale\u001b[m\u001b[m/      \u001b[1m\u001b[34mgiant+panda\u001b[m\u001b[m/     \u001b[1m\u001b[34mmouse\u001b[m\u001b[m/           \u001b[1m\u001b[34mskunk\u001b[m\u001b[m/\r\n",
      "\u001b[1m\u001b[34mbobcat\u001b[m\u001b[m/          \u001b[1m\u001b[34mgiraffe\u001b[m\u001b[m/         \u001b[1m\u001b[34motter\u001b[m\u001b[m/           \u001b[1m\u001b[34mspider+monkey\u001b[m\u001b[m/\r\n",
      "\u001b[1m\u001b[34mbuffalo\u001b[m\u001b[m/         \u001b[1m\u001b[34mgorilla\u001b[m\u001b[m/         \u001b[1m\u001b[34mox\u001b[m\u001b[m/              \u001b[1m\u001b[34msquirrel\u001b[m\u001b[m/\r\n",
      "\u001b[1m\u001b[34mchihuahua\u001b[m\u001b[m/       \u001b[1m\u001b[34mgrizzly+bear\u001b[m\u001b[m/    \u001b[1m\u001b[34mpersian+cat\u001b[m\u001b[m/     \u001b[1m\u001b[34mtiger\u001b[m\u001b[m/\r\n",
      "\u001b[1m\u001b[34mchimpanzee\u001b[m\u001b[m/      \u001b[1m\u001b[34mhamster\u001b[m\u001b[m/         \u001b[1m\u001b[34mpig\u001b[m\u001b[m/             \u001b[1m\u001b[34mwalrus\u001b[m\u001b[m/\r\n",
      "\u001b[1m\u001b[34mcollie\u001b[m\u001b[m/          \u001b[1m\u001b[34mhippopotamus\u001b[m\u001b[m/    \u001b[1m\u001b[34mpolar+bear\u001b[m\u001b[m/      \u001b[1m\u001b[34mweasel\u001b[m\u001b[m/\r\n",
      "\u001b[1m\u001b[34mcow\u001b[m\u001b[m/             \u001b[1m\u001b[34mhorse\u001b[m\u001b[m/           \u001b[1m\u001b[34mrabbit\u001b[m\u001b[m/          \u001b[1m\u001b[34mwolf\u001b[m\u001b[m/\r\n",
      "\u001b[1m\u001b[34mdalmatian\u001b[m\u001b[m/       \u001b[1m\u001b[34mhumpback+whale\u001b[m\u001b[m/  \u001b[1m\u001b[34mraccoon\u001b[m\u001b[m/         \u001b[1m\u001b[34mzebra\u001b[m\u001b[m/\r\n",
      "\u001b[1m\u001b[34mdeer\u001b[m\u001b[m/            \u001b[1m\u001b[34mkiller+whale\u001b[m\u001b[m/    \u001b[1m\u001b[34mrat\u001b[m\u001b[m/\r\n",
      "\u001b[1m\u001b[34mdolphin\u001b[m\u001b[m/         \u001b[1m\u001b[34mleopard\u001b[m\u001b[m/         \u001b[1m\u001b[34mrhinoceros\u001b[m\u001b[m/\r\n"
     ]
    }
   ],
   "source": [
    "ls images_128x128/"
   ]
  },
  {
   "cell_type": "code",
   "execution_count": 9,
   "metadata": {},
   "outputs": [
    {
     "data": {
      "text/plain": [
       "<matplotlib.image.AxesImage at 0x1445edba8>"
      ]
     },
     "execution_count": 9,
     "metadata": {},
     "output_type": "execute_result"
    },
    {
     "data": {
      "image/png": "[encoded data removed]",
      "text/plain": [
       "<Figure size 432x288 with 1 Axes>"
      ]
     },
     "metadata": {
      "needs_background": "light"
     },
     "output_type": "display_data"
    }
   ],
   "source": [
    "test_img = \"images_128x128/rhinoceros/rhinoceros_10066.jpg\"\n",
    "cv2_img = cv2.imread(test_img, 1)\n",
    "img = array_to_img(cv2_img)\n",
    "plt.imshow(img_to_array(img) / 255.0)"
   ]
  },
  {
   "cell_type": "code",
   "execution_count": 10,
   "metadata": {},
   "outputs": [],
   "source": [
    "train_imgs = {}\n",
    "test_imgs = {}\n",
    "data_dir = \"images_128x128\"\n",
    "for animal_name in os.listdir(data_dir):\n",
    "    if animal_name in train_classes:\n",
    "        train_imgs[animal_name] = []\n",
    "        animal_dir = data_dir + \"/\" + animal_name + \"/\"\n",
    "        for img_name in os.listdir(animal_dir):\n",
    "            img = plt.imread(animal_dir + img_name)\n",
    "            train_imgs[animal_name].append(img)\n",
    "            \n",
    "    if animal_name in test_classes:\n",
    "        test_imgs[animal_name] = []\n",
    "        animal_dir = data_dir + \"/\" + animal_name + \"/\"\n",
    "        for img_name in os.listdir(animal_dir):\n",
    "            img = plt.imread(animal_dir + img_name)\n",
    "            test_imgs[animal_name].append(img)"
   ]
  },
  {
   "cell_type": "code",
   "execution_count": 11,
   "metadata": {},
   "outputs": [],
   "source": [
    "all_imgs = {**train_imgs, **test_imgs}"
   ]
  },
  {
   "cell_type": "code",
   "execution_count": 113,
   "metadata": {},
   "outputs": [
    {
     "name": "stdout",
     "output_type": "stream",
     "text": [
      "0.9222520259921839\n"
     ]
    }
   ],
   "source": [
    "from sklearn.decomposition import PCA\n",
    "\n",
    "matrix = []\n",
    "for k, v in class_to_feat.items():\n",
    "    matrix.append(v)\n",
    "feat_matrix = np.array(matrix)\n",
    "pca = PCA(n_components=25)\n",
    "pca.fit(feat_matrix)\n",
    "print(pca.explained_variance_ratio_.sum()) "
   ]
  },
  {
   "cell_type": "code",
   "execution_count": 12,
   "metadata": {},
   "outputs": [],
   "source": [
    "def load_cross_validation(k, classes):\n",
    "    validation_sets = []\n",
    "    n = len(classes)\n",
    "    subset_size = int(n / k)\n",
    "    split_classes = [classes[x:x + subset_size] for x in range(0, n, subset_size)]\n",
    "    for test_classes in split_classes:\n",
    "        training_classes = [c for c in classes if c not in test_classes]\n",
    "        validation_sets.append((training_classes, test_classes))\n",
    "    return validation_sets\n",
    "\n",
    "cross_val_classes = load_cross_validation(5, train_classes)"
   ]
  },
  {
   "cell_type": "code",
   "execution_count": 40,
   "metadata": {},
   "outputs": [],
   "source": [
    "def class_to_data(animal):\n",
    "    x_data, y_data = [], []\n",
    "    labels = class_to_feat[animal].tolist()\n",
    "    x_data += all_imgs[animal]\n",
    "    y_data += len(all_imgs[animal]) * [labels]\n",
    "    return x_data, y_data\n",
    "\n",
    "def all_data(classes):\n",
    "    x_data, y_data = [], []\n",
    "    for animal in classes:\n",
    "        x, y = class_to_data(animal)\n",
    "        x_data += x\n",
    "        y_data += y\n",
    "    return x_data, y_data\n",
    "    \n",
    "x_antelope, y_antelope = class_to_data(\"antelope\")"
   ]
  },
  {
   "cell_type": "code",
   "execution_count": 43,
   "metadata": {},
   "outputs": [
    {
     "data": {
      "text/plain": [
       "array([0, 0, 0, 0, 0, 0, 0, 0, 0, 0, 0, 1, 0, 1, 1, 0, 0, 1, 0, 0, 1, 0,\n",
       "       0, 1, 0, 1, 1, 0, 0, 0, 1, 0, 0, 0, 0, 0, 0, 0, 1, 1, 0, 1, 0, 1,\n",
       "       0, 1, 1, 0, 0, 0, 1, 0, 0, 0, 1, 0, 1, 1, 0, 0, 0, 0, 1, 1, 0, 0,\n",
       "       0, 0, 1, 0, 1, 0, 1, 0, 1, 0, 0, 0, 0, 1, 0, 1, 0, 0, 0])"
      ]
     },
     "execution_count": 43,
     "metadata": {},
     "output_type": "execute_result"
    }
   ],
   "source": [
    "np.array(y_antelope)[0]"
   ]
  },
  {
   "cell_type": "code",
   "execution_count": 51,
   "metadata": {},
   "outputs": [
    {
     "name": "stdout",
     "output_type": "stream",
     "text": [
      "Epoch 1/2\n",
      "30337/30337 [==============================] - 1884s 62ms/step - loss: 126.5041 - acc: 0.0060\n",
      "Epoch 2/2\n",
      "30337/30337 [==============================] - 1871s 62ms/step - loss: 124.8471 - acc: 0.0016\n"
     ]
    },
    {
     "data": {
      "text/plain": [
       "<keras.callbacks.History at 0x145035908>"
      ]
     },
     "execution_count": 51,
     "metadata": {},
     "output_type": "execute_result"
    }
   ],
   "source": [
    "x, y = all_data(train_classes)\n",
    "model = Sequential()\n",
    "model.add(Conv2D(32, kernel_size=5, activation='relu', padding='same', input_shape=(128,128,3)))\n",
    "model.add(Conv2D(32, kernel_size=5, activation='relu', padding='same'))\n",
    "model.add(MaxPooling2D(pool_size=(2, 2)))\n",
    "model.add(Conv2D(16, kernel_size=5, activation='relu', padding='same'))\n",
    "model.add(Conv2D(16, kernel_size=5, activation='relu', padding='same'))\n",
    "model.add(MaxPooling2D(pool_size=(2, 2)))    # shape == 32 x 32 here\n",
    "model.add(Conv2D(16, kernel_size=3, activation='relu', padding='same'))\n",
    "model.add(Flatten())\n",
    "model.add(Dense(n_features, activation='sigmoid'))\n",
    "model.compile(loss='categorical_crossentropy', optimizer='adam', metrics=['accuracy'])\n",
    "model.fit(np.array(x), np.array(y), epochs=2, verbose=1, shuffle=True)"
   ]
  },
  {
   "cell_type": "code",
   "execution_count": 71,
   "metadata": {},
   "outputs": [
    {
     "data": {
      "text/plain": [
       "['chimpanzee',\n",
       " 'giant+panda',\n",
       " 'leopard',\n",
       " 'persian+cat',\n",
       " 'pig',\n",
       " 'hippopotamus',\n",
       " 'humpback+whale',\n",
       " 'raccoon',\n",
       " 'rat',\n",
       " 'seal']"
      ]
     },
     "execution_count": 71,
     "metadata": {},
     "output_type": "execute_result"
    }
   ],
   "source": [
    "test_classes"
   ]
  },
  {
   "cell_type": "code",
   "execution_count": 87,
   "metadata": {},
   "outputs": [
    {
     "name": "stdout",
     "output_type": "stream",
     "text": [
      "Animal: chimpanzee\n",
      "Animal: giant+panda\n",
      "Animal: leopard\n",
      "Animal: persian+cat\n",
      "Animal: pig\n",
      "Animal: hippopotamus\n",
      "Animal: humpback+whale\n",
      "Animal: raccoon\n",
      "Animal: rat\n",
      "Animal: seal\n"
     ]
    }
   ],
   "source": [
    "img_loss = lambda i, x, y: np.abs(y[i] - np.round(model.predict(np.expand_dims(x[i], axis=0))[0]))\n",
    "\n",
    "animal_loss = {}\n",
    "for animal in test_classes:\n",
    "    print(\"Animal: \" + animal)\n",
    "    x, y = class_to_data(animal)\n",
    "    animal_loss[animal] = np.mean(np.array([img_loss(i, x, y) for i in range(len(y))]), axis=0)"
   ]
  },
  {
   "cell_type": "code",
   "execution_count": 116,
   "metadata": {},
   "outputs": [
    {
     "name": "stdout",
     "output_type": "stream",
     "text": [
      "zebra\n",
      "2.638857669947554e-14\n",
      "deer\n",
      "9.09303763940289e-12\n",
      "antelope\n",
      "1.2306770749116776e-09\n"
     ]
    }
   ],
   "source": [
    "def img_to_prob(img, class_candidates):\n",
    "    scores = []\n",
    "    s = model.predict(np.expand_dims(img, axis=0))[0]\n",
    "    probs = np.zeros(len(class_candidates))\n",
    "    for i, animal in enumerate(class_candidates):\n",
    "        probs[i] = np.prod(np.abs(s - 1.0 + class_to_feat[animal]))\n",
    "    return probs\n",
    "\n",
    "p = img_to_prob(x_antelope[4], all_classes)\n",
    "ind = p.argsort()[-3:]\n",
    "for i in ind:\n",
    "    print(all_classes[i])\n",
    "    print(p[i])"
   ]
  },
  {
   "cell_type": "code",
   "execution_count": 120,
   "metadata": {},
   "outputs": [
    {
     "name": "stdout",
     "output_type": "stream",
     "text": [
      "0.1561918396564066\n"
     ]
    }
   ],
   "source": [
    "def labeled_data(classes):\n",
    "    x_data, y_data = [], []\n",
    "    for animal in classes:\n",
    "        x, y = class_to_data(animal)\n",
    "        x_data += x\n",
    "        y_data += len(x) * [animal]\n",
    "    return x_data, y_data\n",
    "\n",
    "x, y = labeled_data(test_classes)\n",
    "corrects = np.zeros(len(x))\n",
    "for i, img in enumerate(x):\n",
    "    probs = img_to_prob(img, test_classes)\n",
    "    corrects[i] = (y[i] == test_classes[probs.argsort()[-1]])\n",
    "print(np.mean(corrects))"
   ]
  },
  {
   "cell_type": "code",
   "execution_count": null,
   "metadata": {},
   "outputs": [],
   "source": []
  }
 ],
 "metadata": {
  "kernelspec": {
   "display_name": "mlenv",
   "language": "python",
   "name": "mlenv"
  },
  "language_info": {
   "codemirror_mode": {
    "name": "ipython",
    "version": 3
   },
   "file_extension": ".py",
   "mimetype": "text/x-python",
   "name": "python",
   "nbconvert_exporter": "python",
   "pygments_lexer": "ipython3",
   "version": "3.6.4"
  }
 },
 "nbformat": 4,
 "nbformat_minor": 2
}
